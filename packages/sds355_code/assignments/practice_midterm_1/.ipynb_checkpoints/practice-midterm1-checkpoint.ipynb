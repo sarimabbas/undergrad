{
 "cells": [
  {
   "cell_type": "markdown",
   "metadata": {},
   "source": [
    "## Midterm 1 (Practice)\n",
    "\n",
    "This exam has three questions. The first problem has several True/False questions, covering various concepts we've covered so far. The next two problems ask you to implement different models on some small data sets, and to answer questions about the results.\n",
    "\n",
    "You can use any online resource: This intended to allow to you access documentation and examples for coding as you would when you program in practice. *You are expressly forbidden to have any communication with another person--either inside or outside of the class--during the exam.*\n",
    "\n",
    "You have 1 hour and 15 minutes to complete the exam. When you are finished, upload to Canvas your notebook and pdf (from html) printout, just as you do for the assignments. \n",
    "\n"
   ]
  },
  {
   "cell_type": "markdown",
   "metadata": {},
   "source": [
    "### Problem 1: True/False (15 points)\n",
    "\n",
    "Indicate your answer for each question by replacing [TF] with [T] for True and replacing [TF] with [F] for False.\n",
    "\n",
    "#### 1.1 Classification\n",
    "Consider a classification task where the input is $d$-dimensional and the output $Y$ is binary\n",
    "\n",
    "1. [TF] A discriminative model assigns a probability to both the input $x$ and the response $y$.\n",
    "\n",
    "1. *[TF] Linear discriminant analysis is a generative classification model.*\n",
    "\n",
    "1. *[TF] A generative model always gives a linear decision boundary. *\n",
    "\n",
    "1. *[TF] If $X$ has a Gaussian distribution conditioned on $Y$, then the Bayes decision boundary for $Y$ given $X$ is linear. *\n",
    "\n",
    "1. *[TF] The optimal classifier, or Bayes rule, can be derived from a generative model.*\n",
    "\n",
    "#### 1.2 Trees and random forests\n",
    "\n",
    "Consider growing random forests for regression. We can vary the depth (or “height”) $h$ of the tree or the number of random predictors $m$ chosen for each split.\n",
    "\n",
    "\n",
    "6. [TF] As the depth $h$ of the tree increases, the training error decreases.\n",
    "\n",
    "6. [TF] As the depth $h$ of the tree increases, the test error decreases. \n",
    "\n",
    "6. [TF] As the sampled predictors $m$ increases, the training error increases.\n",
    "\n",
    "6. [TF] As the sampled predictors $m$ increases, the test error generally decreases. \n",
    "\n",
    "6. [TF] The trees in a random forest model can be grown in parallel, independent of each other.\n",
    "\n",
    "\n",
    "#### 1.3 Bias, variance and complexity\n",
    "\n",
    "\n",
    "11. [TF] As model complexity increases, squared bias decreases.\n",
    "\n",
    "11. [TF] As model complexity increases, the variance of a model decreases.\n",
    "\n",
    "11. [TF] As model complexity increases, the training error decreases.\n",
    "\n",
    "11. [TF] As model complexity increases, the test error decreases.\n",
    "\n",
    "11. [TF] As the size of the training data increases, the model complexity increases.\n",
    "\n"
   ]
  },
  {
   "cell_type": "markdown",
   "metadata": {},
   "source": [
    "### Problem 2: Decision trees (20 points)\n",
    "\n",
    "How well can you determine the species of iris flowers using only two the width of the petal and sepal? You'll subset Fisher's iris data in this problem and build a classification tree to find out.\n",
    "\n",
    "We'll first import some libraries and process the data.\n"
   ]
  },
  {
   "cell_type": "code",
   "execution_count": 84,
   "metadata": {},
   "outputs": [],
   "source": [
    "import pandas as pd\n",
    "import numpy as np\n",
    "from sklearn.model_selection import train_test_split\n",
    "from sklearn.preprocessing import LabelEncoder\n",
    "from sklearn.linear_model import LogisticRegression\n",
    "\n",
    "import matplotlib.pyplot as plt\n",
    "%matplotlib inline"
   ]
  },
  {
   "cell_type": "code",
   "execution_count": 85,
   "metadata": {},
   "outputs": [
    {
     "data": {
      "image/png": "[encoded data removed]",
      "text/plain": [
       "<Figure size 432x288 with 1 Axes>"
      ]
     },
     "metadata": {
      "needs_background": "light"
     },
     "output_type": "display_data"
    }
   ],
   "source": [
    "from sklearn.datasets import load_iris\n",
    "\n",
    "fig = plt.figure()\n",
    "iris = load_iris()\n",
    "x_index = 1\n",
    "y_index = 3\n",
    "ax = fig.add_subplot(111)\n",
    "for c in np.arange(3):\n",
    "    mask = (iris.target==c)\n",
    "    plt.scatter(iris.data[mask, x_index], iris.data[mask, y_index], label=iris.target_names[c])\n",
    "\n",
    "plt.xlabel(iris.feature_names[x_index])\n",
    "plt.ylabel(iris.feature_names[y_index])\n",
    "plt.legend(loc='upper right')\n",
    "plt.show()"
   ]
  },
  {
   "cell_type": "markdown",
   "metadata": {},
   "source": [
    "Finally we have our processed data `X` and response values `y`:"
   ]
  },
  {
   "cell_type": "code",
   "execution_count": 98,
   "metadata": {},
   "outputs": [],
   "source": [
    "X = iris.data[:, (x_index, y_index)] # between two indices\n",
    "y = iris.target # setosa', 'versicolor', 'virginica === 0, 1, 2"
   ]
  },
  {
   "cell_type": "code",
   "execution_count": 99,
   "metadata": {},
   "outputs": [
    {
     "data": {
      "text/plain": [
       "array([0, 0, 0, 0, 0, 0, 0, 0, 0, 0, 0, 0, 0, 0, 0, 0, 0, 0, 0, 0, 0, 0,\n",
       "       0, 0, 0, 0, 0, 0, 0, 0, 0, 0, 0, 0, 0, 0, 0, 0, 0, 0, 0, 0, 0, 0,\n",
       "       0, 0, 0, 0, 0, 0, 1, 1, 1, 1, 1, 1, 1, 1, 1, 1, 1, 1, 1, 1, 1, 1,\n",
       "       1, 1, 1, 1, 1, 1, 1, 1, 1, 1, 1, 1, 1, 1, 1, 1, 1, 1, 1, 1, 1, 1,\n",
       "       1, 1, 1, 1, 1, 1, 1, 1, 1, 1, 1, 1, 2, 2, 2, 2, 2, 2, 2, 2, 2, 2,\n",
       "       2, 2, 2, 2, 2, 2, 2, 2, 2, 2, 2, 2, 2, 2, 2, 2, 2, 2, 2, 2, 2, 2,\n",
       "       2, 2, 2, 2, 2, 2, 2, 2, 2, 2, 2, 2, 2, 2, 2, 2, 2, 2])"
      ]
     },
     "execution_count": 99,
     "metadata": {},
     "output_type": "execute_result"
    }
   ],
   "source": [
    "y"
   ]
  },
  {
   "cell_type": "markdown",
   "metadata": {},
   "source": [
    "Next, you should construct a series of decision tree classifiers with an increasing number of training points. Specifically:\n",
    "\n",
    "* let the sample size vary from 10% of the data to 90% of the data, in increments of 10%\n",
    "* for each sample size, train a decision tree on randomly selected training points, and test on the remaining data\n",
    "* For each sample size, run 3000 trials and average the error rates\n",
    "* Plot the resulting average error rates as a function of sample percentage of the data\n",
    "\n",
    "Some important notes and hints:\n",
    "\n",
    "* Use the function `sklearn.model_selection.train_test_split` in each trial to randomly split the data into training and test sets. For example, you can use `train_test_split(X, y, train_size=.1)`\n",
    "* The implementation only requires about 10-15 lines of code. If you find yourself writing a lot more, reconsider your approach!"
   ]
  },
  {
   "cell_type": "code",
   "execution_count": 100,
   "metadata": {},
   "outputs": [],
   "source": [
    "from sklearn.tree import DecisionTreeClassifier\n",
    "from sklearn.model_selection import train_test_split\n",
    "from sklearn.metrics import accuracy_score"
   ]
  },
  {
   "cell_type": "code",
   "execution_count": 101,
   "metadata": {},
   "outputs": [],
   "source": [
    "trials = 3000\n",
    "train_percent = np.linspace(.1,.9,num=9)\n",
    "error_rate = []\n",
    "dtree = DecisionTreeClassifier()"
   ]
  },
  {
   "cell_type": "code",
   "execution_count": 102,
   "metadata": {},
   "outputs": [],
   "source": [
    "# your code here\n",
    "for p in train_percent:\n",
    "    local_error = []\n",
    "    for _ in range(trials):\n",
    "        dtree = DecisionTreeClassifier()\n",
    "        X_train, X_test, y_train, y_test = train_test_split(X, y, train_size=p)\n",
    "        dtree.fit(X_train, y_train)\n",
    "        y_pred = dtree.predict(X_test)\n",
    "        local_error.append(1 - accuracy_score(y_test, y_pred))\n",
    "    error_rate.append(np.mean(local_error))"
   ]
  },
  {
   "cell_type": "code",
   "execution_count": 103,
   "metadata": {},
   "outputs": [
    {
     "data": {
      "image/png": "[encoded data removed]",
      "text/plain": [
       "<Figure size 432x288 with 1 Axes>"
      ]
     },
     "metadata": {
      "needs_background": "light"
     },
     "output_type": "display_data"
    }
   ],
   "source": [
    "plt.plot(train_percent, error_rate)\n",
    "plt.ylabel('error rate')\n",
    "_ = plt.xlabel('train percent')"
   ]
  },
  {
   "cell_type": "markdown",
   "metadata": {},
   "source": [
    "Explain the qualitative shape of your error curve above. Specifically, if it is \"U-shaped\" or monotonically decreasing or increasing, explain why. What might be changed, if anything, so that the error is decreasing with the amount of training data used?"
   ]
  },
  {
   "cell_type": "markdown",
   "metadata": {},
   "source": [
    "[Your answer in markdown here]"
   ]
  },
  {
   "cell_type": "markdown",
   "metadata": {},
   "source": [
    "### Problem 3: Principal components analysis (20 points)\n",
    "\n",
    "<img src=\"./UK.png\" width=\"250\" align=\"top\">\n",
    "\n",
    "In this problem you will carry out principal components analysis of a small data set of food consumption in the United Kingdom. The data are the consumption in grams per person, per week of 17 different types of food, collected in the four countries of the United Kingdom in 1997.\n",
    "\n",
    "We first load in some packages, and then process the data.\n"
   ]
  },
  {
   "cell_type": "code",
   "execution_count": 109,
   "metadata": {},
   "outputs": [],
   "source": [
    "import pandas as pd\n",
    "import numpy as np\n",
    "import matplotlib.pyplot as plt\n",
    "%matplotlib inline\n",
    "from sklearn.decomposition import PCA"
   ]
  },
  {
   "cell_type": "code",
   "execution_count": 105,
   "metadata": {},
   "outputs": [
    {
     "data": {
      "text/html": [
       "<div>\n",
       "<style scoped>\n",
       "    .dataframe tbody tr th:only-of-type {\n",
       "        vertical-align: middle;\n",
       "    }\n",
       "\n",
       "    .dataframe tbody tr th {\n",
       "        vertical-align: top;\n",
       "    }\n",
       "\n",
       "    .dataframe thead th {\n",
       "        text-align: right;\n",
       "    }\n",
       "</style>\n",
       "<table border=\"1\" class=\"dataframe\">\n",
       "  <thead>\n",
       "    <tr style=\"text-align: right;\">\n",
       "      <th></th>\n",
       "      <th>Category</th>\n",
       "      <th>England</th>\n",
       "      <th>Wales</th>\n",
       "      <th>Scotland</th>\n",
       "      <th>Northern Ireland</th>\n",
       "    </tr>\n",
       "  </thead>\n",
       "  <tbody>\n",
       "    <tr>\n",
       "      <td>0</td>\n",
       "      <td>Cheese</td>\n",
       "      <td>105</td>\n",
       "      <td>103</td>\n",
       "      <td>103</td>\n",
       "      <td>66</td>\n",
       "    </tr>\n",
       "    <tr>\n",
       "      <td>1</td>\n",
       "      <td>Carcass meat</td>\n",
       "      <td>245</td>\n",
       "      <td>227</td>\n",
       "      <td>242</td>\n",
       "      <td>267</td>\n",
       "    </tr>\n",
       "    <tr>\n",
       "      <td>2</td>\n",
       "      <td>Other meat</td>\n",
       "      <td>685</td>\n",
       "      <td>803</td>\n",
       "      <td>750</td>\n",
       "      <td>586</td>\n",
       "    </tr>\n",
       "    <tr>\n",
       "      <td>3</td>\n",
       "      <td>Fish</td>\n",
       "      <td>147</td>\n",
       "      <td>160</td>\n",
       "      <td>122</td>\n",
       "      <td>93</td>\n",
       "    </tr>\n",
       "    <tr>\n",
       "      <td>4</td>\n",
       "      <td>Fats and oils</td>\n",
       "      <td>193</td>\n",
       "      <td>235</td>\n",
       "      <td>184</td>\n",
       "      <td>209</td>\n",
       "    </tr>\n",
       "    <tr>\n",
       "      <td>5</td>\n",
       "      <td>Sugars</td>\n",
       "      <td>156</td>\n",
       "      <td>175</td>\n",
       "      <td>147</td>\n",
       "      <td>139</td>\n",
       "    </tr>\n",
       "    <tr>\n",
       "      <td>6</td>\n",
       "      <td>Fresh potatoes</td>\n",
       "      <td>720</td>\n",
       "      <td>874</td>\n",
       "      <td>566</td>\n",
       "      <td>1033</td>\n",
       "    </tr>\n",
       "    <tr>\n",
       "      <td>7</td>\n",
       "      <td>Fresh Veg</td>\n",
       "      <td>253</td>\n",
       "      <td>265</td>\n",
       "      <td>171</td>\n",
       "      <td>143</td>\n",
       "    </tr>\n",
       "    <tr>\n",
       "      <td>8</td>\n",
       "      <td>Other Veg</td>\n",
       "      <td>488</td>\n",
       "      <td>570</td>\n",
       "      <td>418</td>\n",
       "      <td>355</td>\n",
       "    </tr>\n",
       "    <tr>\n",
       "      <td>9</td>\n",
       "      <td>Processed potatoes</td>\n",
       "      <td>198</td>\n",
       "      <td>203</td>\n",
       "      <td>220</td>\n",
       "      <td>187</td>\n",
       "    </tr>\n",
       "    <tr>\n",
       "      <td>10</td>\n",
       "      <td>Processed Veg</td>\n",
       "      <td>360</td>\n",
       "      <td>365</td>\n",
       "      <td>337</td>\n",
       "      <td>334</td>\n",
       "    </tr>\n",
       "    <tr>\n",
       "      <td>11</td>\n",
       "      <td>Fresh fruit</td>\n",
       "      <td>1102</td>\n",
       "      <td>1137</td>\n",
       "      <td>957</td>\n",
       "      <td>674</td>\n",
       "    </tr>\n",
       "    <tr>\n",
       "      <td>12</td>\n",
       "      <td>Cereals</td>\n",
       "      <td>1472</td>\n",
       "      <td>1582</td>\n",
       "      <td>1462</td>\n",
       "      <td>1494</td>\n",
       "    </tr>\n",
       "    <tr>\n",
       "      <td>13</td>\n",
       "      <td>Beverages</td>\n",
       "      <td>57</td>\n",
       "      <td>73</td>\n",
       "      <td>53</td>\n",
       "      <td>47</td>\n",
       "    </tr>\n",
       "    <tr>\n",
       "      <td>14</td>\n",
       "      <td>Soft drinks</td>\n",
       "      <td>1374</td>\n",
       "      <td>1256</td>\n",
       "      <td>1572</td>\n",
       "      <td>1506</td>\n",
       "    </tr>\n",
       "    <tr>\n",
       "      <td>15</td>\n",
       "      <td>Alcoholic drinks</td>\n",
       "      <td>375</td>\n",
       "      <td>475</td>\n",
       "      <td>458</td>\n",
       "      <td>135</td>\n",
       "    </tr>\n",
       "    <tr>\n",
       "      <td>16</td>\n",
       "      <td>Confectionery</td>\n",
       "      <td>54</td>\n",
       "      <td>64</td>\n",
       "      <td>62</td>\n",
       "      <td>41</td>\n",
       "    </tr>\n",
       "  </tbody>\n",
       "</table>\n",
       "</div>"
      ],
      "text/plain": [
       "              Category  England  Wales  Scotland  Northern Ireland\n",
       "0               Cheese      105    103       103                66\n",
       "1         Carcass meat      245    227       242               267\n",
       "2           Other meat      685    803       750               586\n",
       "3                 Fish      147    160       122                93\n",
       "4        Fats and oils      193    235       184               209\n",
       "5               Sugars      156    175       147               139\n",
       "6       Fresh potatoes      720    874       566              1033\n",
       "7            Fresh Veg      253    265       171               143\n",
       "8            Other Veg      488    570       418               355\n",
       "9   Processed potatoes      198    203       220               187\n",
       "10       Processed Veg      360    365       337               334\n",
       "11         Fresh fruit     1102   1137       957               674\n",
       "12             Cereals     1472   1582      1462              1494\n",
       "13           Beverages       57     73        53                47\n",
       "14         Soft drinks     1374   1256      1572              1506\n",
       "15    Alcoholic drinks      375    475       458               135\n",
       "16       Confectionery       54     64        62                41"
      ]
     },
     "execution_count": 105,
     "metadata": {},
     "output_type": "execute_result"
    }
   ],
   "source": [
    "data = pd.read_csv('UK_foods.csv')\n",
    "data"
   ]
  },
  {
   "cell_type": "code",
   "execution_count": 106,
   "metadata": {},
   "outputs": [],
   "source": [
    "foods = data['Category'].values\n",
    "countries = ['England', 'Wales', 'Scotland', 'Northern Ireland']\n",
    "X = data.drop('Category', 1).values.T"
   ]
  },
  {
   "cell_type": "code",
   "execution_count": 108,
   "metadata": {},
   "outputs": [
    {
     "data": {
      "text/plain": [
       "array(['Cheese', 'Carcass meat', 'Other meat', 'Fish', 'Fats and oils',\n",
       "       'Sugars', 'Fresh potatoes', 'Fresh Veg', 'Other Veg',\n",
       "       'Processed potatoes', 'Processed Veg', 'Fresh fruit', 'Cereals',\n",
       "       'Beverages', 'Soft drinks', 'Alcoholic drinks', 'Confectionery'],\n",
       "      dtype=object)"
      ]
     },
     "execution_count": 108,
     "metadata": {},
     "output_type": "execute_result"
    }
   ],
   "source": [
    "foods"
   ]
  },
  {
   "cell_type": "code",
   "execution_count": 107,
   "metadata": {},
   "outputs": [
    {
     "data": {
      "text/plain": [
       "array([[ 105,  245,  685,  147,  193,  156,  720,  253,  488,  198,  360,\n",
       "        1102, 1472,   57, 1374,  375,   54],\n",
       "       [ 103,  227,  803,  160,  235,  175,  874,  265,  570,  203,  365,\n",
       "        1137, 1582,   73, 1256,  475,   64],\n",
       "       [ 103,  242,  750,  122,  184,  147,  566,  171,  418,  220,  337,\n",
       "         957, 1462,   53, 1572,  458,   62],\n",
       "       [  66,  267,  586,   93,  209,  139, 1033,  143,  355,  187,  334,\n",
       "         674, 1494,   47, 1506,  135,   41]])"
      ]
     },
     "execution_count": 107,
     "metadata": {},
     "output_type": "execute_result"
    }
   ],
   "source": [
    "X"
   ]
  },
  {
   "cell_type": "markdown",
   "metadata": {},
   "source": [
    "Now run PCA on the data matrix X. Call the appropriate functions "
   ]
  },
  {
   "cell_type": "code",
   "execution_count": 122,
   "metadata": {},
   "outputs": [
    {
     "data": {
      "text/plain": [
       "array([[-1.44993152e+02, -2.53299944e+00,  1.05768945e+02,\n",
       "         2.75035207e-14],\n",
       "       [-2.40529148e+02, -2.24646925e+02, -5.64755547e+01,\n",
       "         2.75035207e-14],\n",
       "       [-9.18693390e+01,  2.86081786e+02, -4.44154950e+01,\n",
       "         2.75035207e-14],\n",
       "       [ 4.77391639e+02, -5.89018618e+01, -4.87789535e+00,\n",
       "         2.75035207e-14]])"
      ]
     },
     "execution_count": 122,
     "metadata": {},
     "output_type": "execute_result"
    }
   ],
   "source": [
    "pca = PCA(n_components=2)\n",
    "pca.fit_transform(X)\n",
    "\n",
    "# your code here"
   ]
  },
  {
   "cell_type": "code",
   "execution_count": 119,
   "metadata": {},
   "outputs": [
    {
     "data": {
      "text/plain": [
       "array([[-0.05695538,  0.04792763, -0.25891666, -0.08441498, -0.00519362,\n",
       "        -0.03762098,  0.40140206, -0.15184994, -0.24359373, -0.02688623,\n",
       "        -0.03648827, -0.6326409 , -0.04770286, -0.02618776,  0.23224414,\n",
       "        -0.46396817, -0.0296502 ],\n",
       "       [ 0.01601285,  0.01391582, -0.01533114, -0.05075495, -0.09538866,\n",
       "        -0.0430217 , -0.71501708, -0.14490027, -0.22545092,  0.04285076,\n",
       "        -0.0454518 , -0.17774074, -0.21259968, -0.03056054,  0.55512431,\n",
       "         0.11353652,  0.00594992]])"
      ]
     },
     "execution_count": 119,
     "metadata": {},
     "output_type": "execute_result"
    }
   ],
   "source": [
    "pca.components_"
   ]
  },
  {
   "cell_type": "code",
   "execution_count": 120,
   "metadata": {},
   "outputs": [],
   "source": [
    "principal_vectors = pca.components_ # fill in appropriately\n",
    "principal_components = pca.components_ # fill in appropriately"
   ]
  },
  {
   "cell_type": "markdown",
   "metadata": {},
   "source": [
    "The following code prints the first two principal vectors. We filled these in with random Gaussians -- you should remove that line so that the correct principal vectors are displayed."
   ]
  },
  {
   "cell_type": "code",
   "execution_count": 121,
   "metadata": {},
   "outputs": [
    {
     "data": {
      "image/png": "[encoded data removed]",
      "text/plain": [
       "<Figure size 432x288 with 1 Axes>"
      ]
     },
     "metadata": {
      "needs_background": "light"
     },
     "output_type": "display_data"
    },
    {
     "data": {
      "image/png": "[encoded data removed]",
      "text/plain": [
       "<Figure size 432x288 with 1 Axes>"
      ]
     },
     "metadata": {
      "needs_background": "light"
     },
     "output_type": "display_data"
    }
   ],
   "source": [
    "for i in np.arange(2):\n",
    "    # pv = principal_vectors[i]  # uncomment this line!\n",
    "    pv = np.random.normal(size=X.shape[1]) # remove this line!\n",
    "    plt.bar(np.arange(17), pv)\n",
    "    plt.xticks(np.arange(17), foods, rotation='vertical')\n",
    "    plt.title('principal vector %d' % (i+1))\n",
    "    plt.show()\n"
   ]
  },
  {
   "cell_type": "markdown",
   "metadata": {},
   "source": [
    "Describe qualitatively the main properties of the data that the first two principal vectors are capturing."
   ]
  },
  {
   "cell_type": "markdown",
   "metadata": {},
   "source": [
    "[Your answer here in markdown]"
   ]
  },
  {
   "cell_type": "markdown",
   "metadata": {},
   "source": [
    "Finally, plot the projections of the four countries onto the first two principal components of the data.\n",
    "To do this, use the code provided below, and just swap in the `principal_components` you computed above."
   ]
  },
  {
   "cell_type": "code",
   "execution_count": 10,
   "metadata": {},
   "outputs": [
    {
     "data": {
      "image/png": "[encoded data removed]",
      "text/plain": [
       "<Figure size 432x288 with 1 Axes>"
      ]
     },
     "metadata": {
      "needs_background": "light"
     },
     "output_type": "display_data"
    }
   ],
   "source": [
    "fig = plt.figure()\n",
    "# pcs = _ # put appropriate code here to give the first two principal components for each of the four countries\n",
    "pcs = np.matrix(np.random.normal(size=8)).reshape(4,2) # remove this line!\n",
    "ax = fig.add_subplot(111)\n",
    "colors = ['red', 'blue', 'orange', 'green']\n",
    "for i in np.arange(4):\n",
    "    ax.scatter(pcs[i,0], pcs[i,1], alpha=0.8, c=colors[i], label=countries[i])\n",
    "plt.legend(loc='upper right')\n",
    "plt.show()"
   ]
  },
  {
   "cell_type": "markdown",
   "metadata": {},
   "source": [
    "Describe qualitatively what this plot says about the food consumption patterns of \n",
    "the four parts of the UK. Your description should discuss both aspects of the original data and of the two principal vectors plotted above.\n"
   ]
  },
  {
   "cell_type": "markdown",
   "metadata": {},
   "source": [
    "[Your answer in markdown here]"
   ]
  }
 ],
 "metadata": {
  "kernelspec": {
   "display_name": "Python 3",
   "language": "python",
   "name": "python3"
  },
  "language_info": {
   "codemirror_mode": {
    "name": "ipython",
    "version": 3
   },
   "file_extension": ".py",
   "mimetype": "text/x-python",
   "name": "python",
   "nbconvert_exporter": "python",
   "pygments_lexer": "ipython3",
   "version": "3.7.3"
  }
 },
 "nbformat": 4,
 "nbformat_minor": 4
}
