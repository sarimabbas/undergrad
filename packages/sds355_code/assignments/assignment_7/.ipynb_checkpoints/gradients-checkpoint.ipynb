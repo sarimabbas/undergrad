{
 "cells": [
  {
   "cell_type": "markdown",
   "metadata": {},
   "source": [
    "# NET ID: sa857"
   ]
  },
  {
   "cell_type": "markdown",
   "metadata": {},
   "source": [
    "## Minimal neural net gradients:\n",
    "\n",
    "Working:\n",
    "\n",
    "![Simple gradients](./simple_gradients_working.png)"
   ]
  },
  {
   "cell_type": "markdown",
   "metadata": {},
   "source": [
    "Final answers in LaTeX (fully expanded except dL/df):\n",
    "\n",
    "Layer 3\n",
    "\n",
    "$$\\frac{\\partial L}{\\partial b_3} = \\frac{\\partial L}{\\partial f}$$\n",
    "\n",
    "$$\\frac{\\partial L}{\\partial W_3} = \\frac{\\partial L}{\\partial f} h_2^{T}$$\n",
    "\n",
    "$$\\frac{\\partial L}{\\partial h_2} = \\frac{\\partial L}{\\partial f}W_3^{T}$$\n",
    "\n",
    "Layer 2\n",
    "\n",
    "$$\\frac{\\partial L}{\\partial b_2} = \\frac{\\partial L}{\\partial f}W_3^{T}$$\n",
    "\n",
    "$$\\frac{\\partial L}{\\partial W_2} = \\frac{\\partial L}{\\partial f} W_3^{T} h_1^{T}$$\n",
    "\n",
    "$$\\frac{\\partial L}{\\partial h_1} = \\frac{\\partial L}{\\partial f}W_3^{T} W_2^{T}$$\n",
    "\n",
    "Layer 1\n",
    "\n",
    "$$\\frac{\\partial L}{\\partial b_1} = \\frac{\\partial L}{\\partial f}W_3^{T} W_2^{T}$$\n",
    "\n",
    "$$\\frac{\\partial L}{\\partial W_1} = \\frac{\\partial L}{\\partial f} W_3^{T} W_2^{T} X^{T}$$"
   ]
  },
  {
   "cell_type": "markdown",
   "metadata": {},
   "source": [
    "## Autoencoder gradients"
   ]
  },
  {
   "cell_type": "markdown",
   "metadata": {},
   "source": [
    "Working:\n",
    "\n",
    "![Autoencoder gradients 1](./autoencoder_working_1.png)"
   ]
  },
  {
   "cell_type": "markdown",
   "metadata": {},
   "source": [
    "![Autoencoder gradients 2](./autoencoder_working_2.png)"
   ]
  },
  {
   "cell_type": "markdown",
   "metadata": {},
   "source": [
    "Final answers in LaTeX (fully expanded except dL/dx^):\n",
    "\n",
    "Layer 2\n",
    "\n",
    "$$\\frac{\\partial L}{\\partial b_2} = \\frac{\\partial L}{\\partial \\hat{x}}$$\n",
    "\n",
    "$$\\frac{\\partial L}{\\partial W_2} = \\frac{\\partial L}{\\partial \\hat{x}} h^{T}$$\n",
    "\n",
    "$$\\frac{\\partial L}{\\partial h} = \\frac{\\partial L}{\\partial \\hat{x}} W_2^{T}$$\n",
    "\n",
    "Layer 1\n",
    "\n",
    "$$\\frac{\\partial L}{\\partial b_1} = \\frac{\\partial L}{\\partial \\hat{x}} W_2^{T}$$\n",
    "\n",
    "$$\\frac{\\partial L}{\\partial W_1} = \\frac{\\partial L}{\\partial \\hat{x}} W_2^{T} X^{T}$$"
   ]
  }
 ],
 "metadata": {
  "kernelspec": {
   "display_name": "Python 3",
   "language": "python",
   "name": "python3"
  },
  "language_info": {
   "codemirror_mode": {
    "name": "ipython",
    "version": 3
   },
   "file_extension": ".py",
   "mimetype": "text/x-python",
   "name": "python",
   "nbconvert_exporter": "python",
   "pygments_lexer": "ipython3",
   "version": "3.7.5"
  }
 },
 "nbformat": 4,
 "nbformat_minor": 4
}
