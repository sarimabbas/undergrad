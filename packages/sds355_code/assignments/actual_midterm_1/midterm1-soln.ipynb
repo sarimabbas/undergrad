{
 "cells": [
  {
   "cell_type": "markdown",
   "metadata": {},
   "source": [
    "## Midterm 1 \n",
    "\n",
    "This exam has three questions. The first problem has several True/False questions, covering various concepts we've covered so far. The next two problems ask you to implement different models on some small data sets, and to answer questions about the results.\n",
    "\n",
    "You can use any online resource: This intended to allow to you access documentation and examples for coding as you would when you program in practice. *You are expressly forbidden to have any communication with another person--either inside or outside of the class--during the exam.*\n",
    "\n",
    "If you get stuck on a coding part, please include comments or markdown describing how you would go about getting a working solution. We will take this into account to assign partial credit.\n",
    "\n",
    "You have 1 hour and 15 minutes to complete the exam. When you are finished, upload to Canvas your notebook and pdf (from html) printout, just as you do for the assignments. \n",
    "\n"
   ]
  },
  {
   "cell_type": "markdown",
   "metadata": {},
   "source": [
    "### Problem 1: True/False (15 points)\n",
    "\n",
    "Indicate your answer for each question by replacing [TF] with [T] for True and replacing [TF] with [F] for False.\n",
    "\n",
    "#### 1.1 Classification and regression\n",
    "\n",
    "Consider a classification task where the input is $d$-dimensional and the output $Y$ is binary\n",
    "\n",
    "1. A method is overfitting the data when it has a small training MSE but a large test MSE. [T]\n",
    "\n",
    "1. Logistic regression is more accurate than linear discriminant analysis because logistic regression does not give a linear decision boundary. [F]\n",
    "\n",
    "1. Leave-one-out cross validation gives a more accurate estimate of test error than $R^2$. [T]\n",
    "\n",
    "1. $K$-nearest neighbors regression will always give a better fit than linear regression [F]\n",
    "\n",
    "1. If $X$ is an $n\\times p$ data matrix, where each column mean is zero, then $\\frac{1}{n} X^T X$ is the sample covariance matrix. [T]\n",
    "\n",
    "\n",
    "#### 1.2 Trees and random forests\n",
    "\n",
    "Consider growing random forests for regression. We can vary the depth (or “height”) $h$ of the tree or the number of random predictors $m$ chosen for each split.\n",
    "\n",
    "6. Each bootstrap sample of a data set contains about 63% of the original data. [T]\n",
    "\n",
    "6. When we penalize a method, the variance increases. [F]\n",
    "\n",
    "6. Pruning a decision tree helps to decrease the bias of the model. [F]\n",
    "\n",
    "6. Random forest regression will give the same result whether or not the data is standardized before fitting. [T]\n",
    "\n",
    "6. Bootstrap aggregation and random forests are ensemble methods. [T]\n",
    "\n",
    "\n",
    "#### 1.3 PCA and gradient descent\n",
    "\n",
    "\n",
    "11. Stochastic gradient descent optimizes a loss function using random samples of the data at each step to optimize a model's parameters. [T]\n",
    "\n",
    "11. Stochastic gradient descent is designed to maximize the probability a logistic regression model assigns to the labels in the training data. [T]\n",
    "\n",
    "11. Applying gradient descent to the loss function for logistic regression should give approximately the same answer for any initialization of the parameters. [T]\n",
    "\n",
    "11. PCA finds directions of greatest variation in the data. [T]\n",
    "\n",
    "11. The first and second principal vectors from PCA are always orthogonal to each other. [T]\n",
    "\n",
    "\n"
   ]
  },
  {
   "cell_type": "markdown",
   "metadata": {},
   "source": [
    "### Problem 2: Logistic regression (20 points)\n",
    "\n",
    "<img src=\"./mushrooms.jpg\" width=\"125\" align=\"left\" style=\"margin:10px 20px\">\n",
    "\n",
    "Have you every gone for a walk in the woods and been tempted to bring back some mushrooms for your dinner salad? Well, even if not, it makes sense to ask how many mushrooms we would need to see in order to accurately classify a mushroom as edible or poisonous. You'll get an answer  in this problem.\n",
    "\n",
    "We'll first load a database of mushrooms that have been hand-classified according to whether or not they are poisonous. Then, we'll put it into a form suitable for logistic regression by converting all of the categorical variables to \"dummy\" variables using a \"1-hot\" representation. Then you'll fit logistic regression models on training sets of increasing size.\n"
   ]
  },
  {
   "cell_type": "code",
   "execution_count": 1,
   "metadata": {},
   "outputs": [],
   "source": [
    "import pandas as pd\n",
    "import numpy as np\n",
    "from sklearn.model_selection import train_test_split\n",
    "from sklearn.preprocessing import LabelEncoder\n",
    "from sklearn.linear_model import LogisticRegression\n",
    "\n",
    "import matplotlib.pyplot as plt\n",
    "%matplotlib inline"
   ]
  },
  {
   "cell_type": "code",
   "execution_count": 2,
   "metadata": {},
   "outputs": [
    {
     "data": {
      "text/html": [
       "<div>\n",
       "<style scoped>\n",
       "    .dataframe tbody tr th:only-of-type {\n",
       "        vertical-align: middle;\n",
       "    }\n",
       "\n",
       "    .dataframe tbody tr th {\n",
       "        vertical-align: top;\n",
       "    }\n",
       "\n",
       "    .dataframe thead th {\n",
       "        text-align: right;\n",
       "    }\n",
       "</style>\n",
       "<table border=\"1\" class=\"dataframe\">\n",
       "  <thead>\n",
       "    <tr style=\"text-align: right;\">\n",
       "      <th></th>\n",
       "      <th>class</th>\n",
       "      <th>cap-shape</th>\n",
       "      <th>cap-surface</th>\n",
       "      <th>cap-color</th>\n",
       "      <th>bruises</th>\n",
       "      <th>odor</th>\n",
       "      <th>gill-attachment</th>\n",
       "      <th>gill-spacing</th>\n",
       "      <th>gill-size</th>\n",
       "      <th>gill-color</th>\n",
       "      <th>...</th>\n",
       "      <th>stalk-surface-below-ring</th>\n",
       "      <th>stalk-color-above-ring</th>\n",
       "      <th>stalk-color-below-ring</th>\n",
       "      <th>veil-type</th>\n",
       "      <th>veil-color</th>\n",
       "      <th>ring-number</th>\n",
       "      <th>ring-type</th>\n",
       "      <th>spore-print-color</th>\n",
       "      <th>population</th>\n",
       "      <th>habitat</th>\n",
       "    </tr>\n",
       "  </thead>\n",
       "  <tbody>\n",
       "    <tr>\n",
       "      <th>0</th>\n",
       "      <td>p</td>\n",
       "      <td>x</td>\n",
       "      <td>s</td>\n",
       "      <td>n</td>\n",
       "      <td>t</td>\n",
       "      <td>p</td>\n",
       "      <td>f</td>\n",
       "      <td>c</td>\n",
       "      <td>n</td>\n",
       "      <td>k</td>\n",
       "      <td>...</td>\n",
       "      <td>s</td>\n",
       "      <td>w</td>\n",
       "      <td>w</td>\n",
       "      <td>p</td>\n",
       "      <td>w</td>\n",
       "      <td>o</td>\n",
       "      <td>p</td>\n",
       "      <td>k</td>\n",
       "      <td>s</td>\n",
       "      <td>u</td>\n",
       "    </tr>\n",
       "    <tr>\n",
       "      <th>1</th>\n",
       "      <td>e</td>\n",
       "      <td>x</td>\n",
       "      <td>s</td>\n",
       "      <td>y</td>\n",
       "      <td>t</td>\n",
       "      <td>a</td>\n",
       "      <td>f</td>\n",
       "      <td>c</td>\n",
       "      <td>b</td>\n",
       "      <td>k</td>\n",
       "      <td>...</td>\n",
       "      <td>s</td>\n",
       "      <td>w</td>\n",
       "      <td>w</td>\n",
       "      <td>p</td>\n",
       "      <td>w</td>\n",
       "      <td>o</td>\n",
       "      <td>p</td>\n",
       "      <td>n</td>\n",
       "      <td>n</td>\n",
       "      <td>g</td>\n",
       "    </tr>\n",
       "    <tr>\n",
       "      <th>2</th>\n",
       "      <td>e</td>\n",
       "      <td>b</td>\n",
       "      <td>s</td>\n",
       "      <td>w</td>\n",
       "      <td>t</td>\n",
       "      <td>l</td>\n",
       "      <td>f</td>\n",
       "      <td>c</td>\n",
       "      <td>b</td>\n",
       "      <td>n</td>\n",
       "      <td>...</td>\n",
       "      <td>s</td>\n",
       "      <td>w</td>\n",
       "      <td>w</td>\n",
       "      <td>p</td>\n",
       "      <td>w</td>\n",
       "      <td>o</td>\n",
       "      <td>p</td>\n",
       "      <td>n</td>\n",
       "      <td>n</td>\n",
       "      <td>m</td>\n",
       "    </tr>\n",
       "    <tr>\n",
       "      <th>3</th>\n",
       "      <td>p</td>\n",
       "      <td>x</td>\n",
       "      <td>y</td>\n",
       "      <td>w</td>\n",
       "      <td>t</td>\n",
       "      <td>p</td>\n",
       "      <td>f</td>\n",
       "      <td>c</td>\n",
       "      <td>n</td>\n",
       "      <td>n</td>\n",
       "      <td>...</td>\n",
       "      <td>s</td>\n",
       "      <td>w</td>\n",
       "      <td>w</td>\n",
       "      <td>p</td>\n",
       "      <td>w</td>\n",
       "      <td>o</td>\n",
       "      <td>p</td>\n",
       "      <td>k</td>\n",
       "      <td>s</td>\n",
       "      <td>u</td>\n",
       "    </tr>\n",
       "    <tr>\n",
       "      <th>4</th>\n",
       "      <td>e</td>\n",
       "      <td>x</td>\n",
       "      <td>s</td>\n",
       "      <td>g</td>\n",
       "      <td>f</td>\n",
       "      <td>n</td>\n",
       "      <td>f</td>\n",
       "      <td>w</td>\n",
       "      <td>b</td>\n",
       "      <td>k</td>\n",
       "      <td>...</td>\n",
       "      <td>s</td>\n",
       "      <td>w</td>\n",
       "      <td>w</td>\n",
       "      <td>p</td>\n",
       "      <td>w</td>\n",
       "      <td>o</td>\n",
       "      <td>e</td>\n",
       "      <td>n</td>\n",
       "      <td>a</td>\n",
       "      <td>g</td>\n",
       "    </tr>\n",
       "  </tbody>\n",
       "</table>\n",
       "<p>5 rows × 23 columns</p>\n",
       "</div>"
      ],
      "text/plain": [
       "  class cap-shape cap-surface cap-color bruises odor gill-attachment  \\\n",
       "0     p         x           s         n       t    p               f   \n",
       "1     e         x           s         y       t    a               f   \n",
       "2     e         b           s         w       t    l               f   \n",
       "3     p         x           y         w       t    p               f   \n",
       "4     e         x           s         g       f    n               f   \n",
       "\n",
       "  gill-spacing gill-size gill-color  ... stalk-surface-below-ring  \\\n",
       "0            c         n          k  ...                        s   \n",
       "1            c         b          k  ...                        s   \n",
       "2            c         b          n  ...                        s   \n",
       "3            c         n          n  ...                        s   \n",
       "4            w         b          k  ...                        s   \n",
       "\n",
       "  stalk-color-above-ring stalk-color-below-ring veil-type veil-color  \\\n",
       "0                      w                      w         p          w   \n",
       "1                      w                      w         p          w   \n",
       "2                      w                      w         p          w   \n",
       "3                      w                      w         p          w   \n",
       "4                      w                      w         p          w   \n",
       "\n",
       "  ring-number ring-type spore-print-color population habitat  \n",
       "0           o         p                 k          s       u  \n",
       "1           o         p                 n          n       g  \n",
       "2           o         p                 n          n       m  \n",
       "3           o         p                 k          s       u  \n",
       "4           o         e                 n          a       g  \n",
       "\n",
       "[5 rows x 23 columns]"
      ]
     },
     "execution_count": 2,
     "metadata": {},
     "output_type": "execute_result"
    }
   ],
   "source": [
    "data = pd.read_csv('mushrooms.csv')\n",
    "data.head()"
   ]
  },
  {
   "cell_type": "code",
   "execution_count": 3,
   "metadata": {},
   "outputs": [
    {
     "data": {
      "text/html": [
       "<div>\n",
       "<style scoped>\n",
       "    .dataframe tbody tr th:only-of-type {\n",
       "        vertical-align: middle;\n",
       "    }\n",
       "\n",
       "    .dataframe tbody tr th {\n",
       "        vertical-align: top;\n",
       "    }\n",
       "\n",
       "    .dataframe thead th {\n",
       "        text-align: right;\n",
       "    }\n",
       "</style>\n",
       "<table border=\"1\" class=\"dataframe\">\n",
       "  <thead>\n",
       "    <tr style=\"text-align: right;\">\n",
       "      <th></th>\n",
       "      <th>class</th>\n",
       "      <th>cap-shape_b</th>\n",
       "      <th>cap-shape_c</th>\n",
       "      <th>cap-shape_f</th>\n",
       "      <th>cap-shape_k</th>\n",
       "      <th>cap-shape_s</th>\n",
       "      <th>cap-shape_x</th>\n",
       "      <th>cap-surface_f</th>\n",
       "      <th>cap-surface_g</th>\n",
       "      <th>cap-surface_s</th>\n",
       "      <th>...</th>\n",
       "      <th>population_s</th>\n",
       "      <th>population_v</th>\n",
       "      <th>population_y</th>\n",
       "      <th>habitat_d</th>\n",
       "      <th>habitat_g</th>\n",
       "      <th>habitat_l</th>\n",
       "      <th>habitat_m</th>\n",
       "      <th>habitat_p</th>\n",
       "      <th>habitat_u</th>\n",
       "      <th>habitat_w</th>\n",
       "    </tr>\n",
       "  </thead>\n",
       "  <tbody>\n",
       "    <tr>\n",
       "      <th>0</th>\n",
       "      <td>1</td>\n",
       "      <td>0</td>\n",
       "      <td>0</td>\n",
       "      <td>0</td>\n",
       "      <td>0</td>\n",
       "      <td>0</td>\n",
       "      <td>1</td>\n",
       "      <td>0</td>\n",
       "      <td>0</td>\n",
       "      <td>1</td>\n",
       "      <td>...</td>\n",
       "      <td>1</td>\n",
       "      <td>0</td>\n",
       "      <td>0</td>\n",
       "      <td>0</td>\n",
       "      <td>0</td>\n",
       "      <td>0</td>\n",
       "      <td>0</td>\n",
       "      <td>0</td>\n",
       "      <td>1</td>\n",
       "      <td>0</td>\n",
       "    </tr>\n",
       "    <tr>\n",
       "      <th>1</th>\n",
       "      <td>0</td>\n",
       "      <td>0</td>\n",
       "      <td>0</td>\n",
       "      <td>0</td>\n",
       "      <td>0</td>\n",
       "      <td>0</td>\n",
       "      <td>1</td>\n",
       "      <td>0</td>\n",
       "      <td>0</td>\n",
       "      <td>1</td>\n",
       "      <td>...</td>\n",
       "      <td>0</td>\n",
       "      <td>0</td>\n",
       "      <td>0</td>\n",
       "      <td>0</td>\n",
       "      <td>1</td>\n",
       "      <td>0</td>\n",
       "      <td>0</td>\n",
       "      <td>0</td>\n",
       "      <td>0</td>\n",
       "      <td>0</td>\n",
       "    </tr>\n",
       "    <tr>\n",
       "      <th>2</th>\n",
       "      <td>0</td>\n",
       "      <td>1</td>\n",
       "      <td>0</td>\n",
       "      <td>0</td>\n",
       "      <td>0</td>\n",
       "      <td>0</td>\n",
       "      <td>0</td>\n",
       "      <td>0</td>\n",
       "      <td>0</td>\n",
       "      <td>1</td>\n",
       "      <td>...</td>\n",
       "      <td>0</td>\n",
       "      <td>0</td>\n",
       "      <td>0</td>\n",
       "      <td>0</td>\n",
       "      <td>0</td>\n",
       "      <td>0</td>\n",
       "      <td>1</td>\n",
       "      <td>0</td>\n",
       "      <td>0</td>\n",
       "      <td>0</td>\n",
       "    </tr>\n",
       "    <tr>\n",
       "      <th>3</th>\n",
       "      <td>1</td>\n",
       "      <td>0</td>\n",
       "      <td>0</td>\n",
       "      <td>0</td>\n",
       "      <td>0</td>\n",
       "      <td>0</td>\n",
       "      <td>1</td>\n",
       "      <td>0</td>\n",
       "      <td>0</td>\n",
       "      <td>0</td>\n",
       "      <td>...</td>\n",
       "      <td>1</td>\n",
       "      <td>0</td>\n",
       "      <td>0</td>\n",
       "      <td>0</td>\n",
       "      <td>0</td>\n",
       "      <td>0</td>\n",
       "      <td>0</td>\n",
       "      <td>0</td>\n",
       "      <td>1</td>\n",
       "      <td>0</td>\n",
       "    </tr>\n",
       "    <tr>\n",
       "      <th>4</th>\n",
       "      <td>0</td>\n",
       "      <td>0</td>\n",
       "      <td>0</td>\n",
       "      <td>0</td>\n",
       "      <td>0</td>\n",
       "      <td>0</td>\n",
       "      <td>1</td>\n",
       "      <td>0</td>\n",
       "      <td>0</td>\n",
       "      <td>1</td>\n",
       "      <td>...</td>\n",
       "      <td>0</td>\n",
       "      <td>0</td>\n",
       "      <td>0</td>\n",
       "      <td>0</td>\n",
       "      <td>1</td>\n",
       "      <td>0</td>\n",
       "      <td>0</td>\n",
       "      <td>0</td>\n",
       "      <td>0</td>\n",
       "      <td>0</td>\n",
       "    </tr>\n",
       "  </tbody>\n",
       "</table>\n",
       "<p>5 rows × 118 columns</p>\n",
       "</div>"
      ],
      "text/plain": [
       "   class  cap-shape_b  cap-shape_c  cap-shape_f  cap-shape_k  cap-shape_s  \\\n",
       "0      1            0            0            0            0            0   \n",
       "1      0            0            0            0            0            0   \n",
       "2      0            1            0            0            0            0   \n",
       "3      1            0            0            0            0            0   \n",
       "4      0            0            0            0            0            0   \n",
       "\n",
       "   cap-shape_x  cap-surface_f  cap-surface_g  cap-surface_s  ...  \\\n",
       "0            1              0              0              1  ...   \n",
       "1            1              0              0              1  ...   \n",
       "2            0              0              0              1  ...   \n",
       "3            1              0              0              0  ...   \n",
       "4            1              0              0              1  ...   \n",
       "\n",
       "   population_s  population_v  population_y  habitat_d  habitat_g  habitat_l  \\\n",
       "0             1             0             0          0          0          0   \n",
       "1             0             0             0          0          1          0   \n",
       "2             0             0             0          0          0          0   \n",
       "3             1             0             0          0          0          0   \n",
       "4             0             0             0          0          1          0   \n",
       "\n",
       "   habitat_m  habitat_p  habitat_u  habitat_w  \n",
       "0          0          0          1          0  \n",
       "1          0          0          0          0  \n",
       "2          1          0          0          0  \n",
       "3          0          0          1          0  \n",
       "4          0          0          0          0  \n",
       "\n",
       "[5 rows x 118 columns]"
      ]
     },
     "execution_count": 3,
     "metadata": {},
     "output_type": "execute_result"
    }
   ],
   "source": [
    "data['class'] = LabelEncoder().fit_transform(data['class'])\n",
    "encoded_data = pd.get_dummies(data)\n",
    "encoded_data.head()"
   ]
  },
  {
   "cell_type": "markdown",
   "metadata": {},
   "source": [
    "#### 2.1 Explain the transformation of the data\n",
    "\n",
    "Explain in words what the transformations above are doing, to prepare the data for classification, and why the original data are not in a suitable form.\n"
   ]
  },
  {
   "cell_type": "markdown",
   "metadata": {},
   "source": [
    "[Your answer in markdown here] 3 points\n",
    "\n",
    "* The transformation is mapping each categorical variable to a series of 1-hot or \"dummy\" variables\n",
    "\n",
    "* so the weights are meaningful in a logistic regression model.\n",
    "\n",
    "* 1 point for free\n"
   ]
  },
  {
   "cell_type": "markdown",
   "metadata": {},
   "source": [
    "Next, we convert this DataFrame to numpy arrays, suitable for input to sklearn."
   ]
  },
  {
   "cell_type": "code",
   "execution_count": 4,
   "metadata": {},
   "outputs": [],
   "source": [
    "y = encoded_data['class'].values\n",
    "X = encoded_data.drop('class', 1).values"
   ]
  },
  {
   "cell_type": "markdown",
   "metadata": {},
   "source": [
    "#### 2.2 Dimensions of the data\n",
    "\n",
    "Ok, now before you get to work building a classifier, answer a couple of questions about the data. How many data points are there? How many original predictors? How many predictor variables after expansion using dummy variables? What percentage of the mushrooms in the data set are poisonous?"
   ]
  },
  {
   "cell_type": "code",
   "execution_count": 5,
   "metadata": {
    "scrolled": true
   },
   "outputs": [
    {
     "name": "stdout",
     "output_type": "stream",
     "text": [
      "Number of data points: 8124\n",
      "Number of original predictors: 22\n",
      "Number of expanded predictors: 117\n",
      "Percent poisonous: 48.2%\n"
     ]
    }
   ],
   "source": [
    "num_data_points = X.shape[0] # your code here\n",
    "num_original_predictors = data.shape[1]-1 # your code here\n",
    "num_expanded_predictors = X.shape[1] # your code here\n",
    "poisonous = np.mean(y)*100 # your code here\n",
    "\n",
    "# 1 point for each correct answer\n",
    "print(\"Number of data points: %d\" % num_data_points)\n",
    "print(\"Number of original predictors: %d\" % num_original_predictors)\n",
    "print(\"Number of expanded predictors: %d\" % num_expanded_predictors)\n",
    "print(\"Percent poisonous: %.1f%%\" % poisonous)"
   ]
  },
  {
   "cell_type": "markdown",
   "metadata": {},
   "source": [
    "#### 2.3 Fitting logistic regression models\n",
    "\n",
    "Next, you should construct a series of logistic regression models with an increasing number of training points. Specifically:\n",
    "\n",
    "* let the sample size $n$ vary from 2 to 400 in increments of 1\n",
    "* for each $n$ train a logistic regression model on $n$ randomly selected training points, and test on the remaining data\n",
    "* For each $n$, do this 10 times and average the error rates\n",
    "* Plot the resulting average error rates as a function of $n$\n",
    "\n",
    "Some important notes and hints:\n",
    "\n",
    "* Use the function `sklearn.model_selection.train_test_split` in each trial to randomly split the data into training and test sets. For example, you can use `train_test_split(X, y, train_size=n)`\n",
    "* When $n$ is small, the model will fail to train if all of the training examples have the same label. When this happens, just skip that data set and choose another random split.\n",
    "* The implementation only requires about 10-15 lines of code. If you find yourself writing a lot more, reconsider your approach!"
   ]
  },
  {
   "cell_type": "code",
   "execution_count": 6,
   "metadata": {
    "scrolled": true
   },
   "outputs": [
    {
     "name": "stderr",
     "output_type": "stream",
     "text": [
      "100%|██████████| 399/399 [00:40<00:00,  8.17it/s]\n"
     ]
    },
    {
     "data": {
      "image/png": "[encoded data removed]",
      "text/plain": [
       "<Figure size 432x288 with 1 Axes>"
      ]
     },
     "metadata": {
      "needs_background": "light"
     },
     "output_type": "display_data"
    }
   ],
   "source": [
    "# 10 points\n",
    "\n",
    "trials = 10\n",
    "sample_size = np.arange(2, 401, 1)\n",
    "error_rate = np.zeros(len(sample_size))\n",
    "lr = LogisticRegression(solver='lbfgs')\n",
    "\n",
    "from tqdm import tqdm\n",
    "error_rate = []\n",
    "lr = LogisticRegression(solver='lbfgs')\n",
    "for n in tqdm(sample_size):\n",
    "    err = []\n",
    "    for trial in np.arange(trials):\n",
    "        while True:\n",
    "            X_train, X_test, y_train, y_test = train_test_split(X, y, train_size=n)\n",
    "            if (sum(y_train) < len(y_train)) and (sum(y_train) > 0):\n",
    "                break\n",
    "        _ = lr.fit(X_train, y_train)\n",
    "        this_err = np.mean(lr.predict(X_test) != y_test)\n",
    "        err.append(this_err)\n",
    "    error_rate.append(np.mean(err))\n",
    "\n",
    "plt.plot(sample_size, error_rate)\n",
    "plt.xlabel('sample size')\n",
    "_ = plt.ylabel('error rate')"
   ]
  },
  {
   "cell_type": "markdown",
   "metadata": {},
   "source": [
    "#### 2.4  Sample sizes to get 5% and 1% error\n",
    "\n",
    "Finally, answer the following questions about your results. How many data points are required before the error falls below 5 percent? Below 1 percent?\n"
   ]
  },
  {
   "cell_type": "code",
   "execution_count": 7,
   "metadata": {
    "scrolled": true
   },
   "outputs": [
    {
     "name": "stdout",
     "output_type": "stream",
     "text": [
      "46 samples are required before the error falls below 5%\n",
      "329 samples are required before the error falls below 1%\n"
     ]
    }
   ],
   "source": [
    "# 2 points, 1 each -- need correct code and/or numbers in the nbhd of 50 and 300\n",
    "\n",
    "e = np.array(error_rate)\n",
    "\n",
    "n_05 = np.min(sample_size[np.where(e < 0.05)])\n",
    "print(\"%d samples are required before the error falls below 5%%\" % n_05)\n",
    "\n",
    "n_01 = np.min(sample_size[np.where(e < 0.01)])\n",
    "print(\"%d samples are required before the error falls below 1%%\" % n_01)"
   ]
  },
  {
   "cell_type": "markdown",
   "metadata": {},
   "source": [
    "### Problem 3: PCA and classification (30 points)\n",
    "\n",
    "<img src=\"./irises.png\" width=\"500\" align=\"top\">\n",
    "\n",
    "In this problem you will carry out principal components analysis and classification on the iris data. The task will be to reduce the dimension from four to two using PCA, and then to compare decision tree classifiers with logistic regression.\n",
    "\n"
   ]
  },
  {
   "cell_type": "code",
   "execution_count": 8,
   "metadata": {},
   "outputs": [],
   "source": [
    "import pandas as pd\n",
    "import numpy as np\n",
    "from sklearn.model_selection import train_test_split\n",
    "from sklearn.decomposition import PCA\n",
    "\n",
    "import matplotlib.pyplot as plt\n",
    "%matplotlib inline"
   ]
  },
  {
   "cell_type": "markdown",
   "metadata": {},
   "source": [
    "The following cell plots the original data in terms of sepal width and petal length."
   ]
  },
  {
   "cell_type": "code",
   "execution_count": 9,
   "metadata": {},
   "outputs": [
    {
     "data": {
      "image/png": "[encoded data removed]",
      "text/plain": [
       "<Figure size 432x288 with 1 Axes>"
      ]
     },
     "metadata": {
      "needs_background": "light"
     },
     "output_type": "display_data"
    }
   ],
   "source": [
    "from sklearn.datasets import load_iris\n",
    "\n",
    "fig = plt.figure()\n",
    "iris = load_iris()\n",
    "x_index = 1\n",
    "y_index = 2\n",
    "ax = fig.add_subplot(111)\n",
    "colors = ['red', 'blue', 'green']\n",
    "for c in np.arange(3):\n",
    "    mask = (iris.target==c)\n",
    "    plt.scatter(iris.data[mask, x_index], iris.data[mask, y_index], color=colors[c], label=iris.target_names[c])\n",
    "\n",
    "plt.xlabel(iris.feature_names[x_index])\n",
    "plt.ylabel(iris.feature_names[y_index])\n",
    "plt.legend(loc='upper left')\n",
    "plt.show()"
   ]
  },
  {
   "cell_type": "code",
   "execution_count": 10,
   "metadata": {},
   "outputs": [],
   "source": [
    "X = iris.data\n",
    "y = iris.target"
   ]
  },
  {
   "cell_type": "markdown",
   "metadata": {},
   "source": [
    "#### 3.1 Carry out PCA\n",
    "\n",
    "In the following cell, reduce the dimension of the data from four to two dimensions by carrying out principal components analysis. Let `pv1` be the first principal vector and let `pv2` be the second principal vector.\n"
   ]
  },
  {
   "cell_type": "code",
   "execution_count": 11,
   "metadata": {},
   "outputs": [],
   "source": [
    "# your code here\n",
    "# 4 points\n",
    "\n",
    "X = X - np.mean(X,0)\n",
    "pca = PCA()\n",
    "pca.fit(X)\n",
    "pcs = pca.fit_transform(X)\n",
    "\n",
    "\n",
    "pv1 = pca.components_[0] # your code here\n",
    "pv2 = pca.components_[1] # your code here\n",
    "pcs = pca.fit_transform(X)[:,0:2] # your code here\n",
    "\n",
    "# Comment out the following lines!\n",
    "#pv1 = np.random.normal(size=4)\n",
    "#pv2 = np.random.normal(size=4)\n",
    "#pcs = np.random.normal(size=2*X.shape[0]).reshape(X.shape[0], 2)\n"
   ]
  },
  {
   "cell_type": "markdown",
   "metadata": {},
   "source": [
    "The next cell plots the principal vectors"
   ]
  },
  {
   "cell_type": "code",
   "execution_count": 12,
   "metadata": {
    "scrolled": true
   },
   "outputs": [
    {
     "data": {
      "image/png": "[encoded data removed]",
      "text/plain": [
       "<Figure size 432x288 with 1 Axes>"
      ]
     },
     "metadata": {
      "needs_background": "light"
     },
     "output_type": "display_data"
    },
    {
     "data": {
      "image/png": "[encoded data removed]",
      "text/plain": [
       "<Figure size 432x288 with 1 Axes>"
      ]
     },
     "metadata": {
      "needs_background": "light"
     },
     "output_type": "display_data"
    }
   ],
   "source": [
    "plt.bar(np.arange(4), pv1)\n",
    "plt.xticks(np.arange(4), iris.feature_names, rotation='vertical')\n",
    "plt.show()\n",
    "\n",
    "plt.bar(np.arange(4), pv2)\n",
    "plt.xticks(np.arange(4), iris.feature_names, rotation='vertical')\n",
    "plt.show()\n"
   ]
  },
  {
   "cell_type": "markdown",
   "metadata": {},
   "source": [
    "#### 3.2 Qualitative description of vectors\n",
    "\n",
    "Describe qualitatively the main properties of the data that the first two principal vectors are capturing."
   ]
  },
  {
   "cell_type": "markdown",
   "metadata": {},
   "source": [
    "[Your answer here in markdown]\n",
    "2 points\n",
    "\n",
    "The first principal vector is capturing variation in petal length. The second principal vector is capturing variation in sepal length and width."
   ]
  },
  {
   "cell_type": "markdown",
   "metadata": {},
   "source": [
    "#### 3.3 Verify orthogonality\n",
    "\n",
    "Write a single code that evaluates to `True` if the first two principal vectors are orthogonal, and to `False` otherwise. (You will need to take numerical error into account!)\n"
   ]
  },
  {
   "cell_type": "code",
   "execution_count": 13,
   "metadata": {},
   "outputs": [
    {
     "data": {
      "text/plain": [
       "True"
      ]
     },
     "execution_count": 13,
     "metadata": {},
     "output_type": "execute_result"
    }
   ],
   "source": [
    "# Your line here\n",
    "# 2 points\n",
    "\n",
    "np.abs(np.dot(pv1, pv2) < 1e-15)"
   ]
  },
  {
   "cell_type": "markdown",
   "metadata": {},
   "source": [
    "Finally, plot the projections of the four countries onto the first two principal components of the data. To do this, use the code provided below, and just swap in the `principal_components` you computed above."
   ]
  },
  {
   "cell_type": "code",
   "execution_count": 14,
   "metadata": {
    "scrolled": true
   },
   "outputs": [
    {
     "data": {
      "image/png": "[encoded data removed]",
      "text/plain": [
       "<Figure size 432x288 with 1 Axes>"
      ]
     },
     "metadata": {
      "needs_background": "light"
     },
     "output_type": "display_data"
    }
   ],
   "source": [
    "fig = plt.figure()\n",
    "ax = fig.add_subplot(111)\n",
    "colors = ['red', 'blue', 'green']\n",
    "for i in np.arange(3):\n",
    "    mask = y==i\n",
    "    ax.scatter(pcs[mask,0], pcs[mask,1], alpha=0.8, c=colors[i], label=iris.target_names[i])\n",
    "plt.legend(loc='upper right')\n",
    "plt.xlabel('principal component 1')\n",
    "plt.ylabel('principal component 2')\n",
    "plt.show()"
   ]
  },
  {
   "cell_type": "markdown",
   "metadata": {},
   "source": [
    "#### 3.4 Describe your plot\n",
    "2 points\n",
    "\n",
    "Describe the resulting plot. How is it different than and similar to the plot above for petal length vs. sepal width?"
   ]
  },
  {
   "cell_type": "markdown",
   "metadata": {},
   "source": [
    "#### 3.5 Fitting decision trees\n",
    "\n",
    "Next, you construct a series of decision tree classifiers **using the first two principal components** as predictor variables, with an increasing number of training points. Specifically:\n",
    "\n",
    "* let the sample size 10% of the data to 90% of the data, in increments of 10%\n",
    "* for each sample size, train a decision tree on randomly selected training points, and test on the remaining data\n",
    "* For each sample size, run 1000 trials and average the error rates\n",
    "* Plot the resulting average error rates as a function of sample percentage of the data\n",
    "\n",
    "Some important notes and hints:\n",
    "\n",
    "* Use the function `sklearn.model_selection.train_test_split` in each trial to randomly split the data into training and test sets. For example, you can use `train_test_split(X, y, train_size=.1)`\n",
    "* The implementation only requires about 10-15 lines of code. If you find yourself writing a lot more, reconsider your approach!"
   ]
  },
  {
   "cell_type": "code",
   "execution_count": 15,
   "metadata": {},
   "outputs": [
    {
     "name": "stderr",
     "output_type": "stream",
     "text": [
      "100%|██████████| 9/9 [00:04<00:00,  2.08it/s]\n"
     ]
    },
    {
     "data": {
      "image/png": "[encoded data removed]",
      "text/plain": [
       "<Figure size 432x288 with 1 Axes>"
      ]
     },
     "metadata": {
      "needs_background": "light"
     },
     "output_type": "display_data"
    }
   ],
   "source": [
    "from sklearn.tree import DecisionTreeClassifier\n",
    "from sklearn.model_selection import train_test_split\n",
    "\n",
    "# 5 points\n",
    "\n",
    "X = pcs\n",
    "dtree = DecisionTreeClassifier()\n",
    "dt_error_rate = []\n",
    "trials = 1000\n",
    "train_percent = np.linspace(.1,.9,num=9)\n",
    "\n",
    "from tqdm import tqdm\n",
    "for p in tqdm(train_percent):\n",
    "    errs = []\n",
    "    for trial in np.arange(trials):\n",
    "        X_train, X_test, y_train, y_test = train_test_split(X, y, train_size=p)\n",
    "        dtree.fit(X_train, y_train)\n",
    "        err = np.mean(dtree.predict(X_test) != y_test)\n",
    "        errs.append(err)\n",
    "    this_err = np.mean(errs)\n",
    "    dt_error_rate.append(this_err)\n",
    "    \n",
    "plt.plot(train_percent, dt_error_rate)\n",
    "plt.xlabel('train percent')\n",
    "_ = plt.ylabel('error')"
   ]
  },
  {
   "cell_type": "markdown",
   "metadata": {},
   "source": [
    "#### 3.6 Finding the minimum error\n",
    "\n",
    "What is the smallest average error attained by the decision trees?\n"
   ]
  },
  {
   "cell_type": "code",
   "execution_count": 16,
   "metadata": {},
   "outputs": [
    {
     "name": "stdout",
     "output_type": "stream",
     "text": [
      "The minimum error attained by the decision trees is 5.91%\n"
     ]
    }
   ],
   "source": [
    "# 2 points\n",
    "min_error = np.min(np.array(dt_error_rate)) # your code here\n",
    "print(\"The minimum error attained by the decision trees is %.2f%%\" % (100*min_error))"
   ]
  },
  {
   "cell_type": "markdown",
   "metadata": {},
   "source": [
    "#### 3.7 Interpreting the trees\n",
    "\n",
    "Note that the decision trees are classifying into three types, namely the three species *virginica*, *setosa*, and *versicolor*. Explain in words how the decision tree makes this prediction at each leaf in the tree.\n"
   ]
  },
  {
   "cell_type": "markdown",
   "metadata": {},
   "source": [
    "[Your answer here in markdown]\n",
    "\n",
    "2 points"
   ]
  },
  {
   "cell_type": "markdown",
   "metadata": {},
   "source": [
    "#### 3.8 Training logistic regression models\n",
    "\n",
    "Next, construct a series of logistic regression using an increasing number of training points, **also using the first two principal components as predictor variables**.  Specifically:\n",
    "\n",
    "* let the sample size 10% of the data to 90% of the data, in increments of 10%\n",
    "* for each sample size, train a logistic regression model on randomly selected training points, and test on the remaining data\n",
    "* For each sample size, run 1000 trials and average the error rates\n",
    "* Plot the resulting average error rates as a function of sample percentage of the data\n",
    "\n",
    "Some important notes and hints:\n",
    "\n",
    "* As before, use the function sklearn.model_selection.train_test_split in each trial to randomly split the data into training and test sets. For example, you can use train_test_split(X, y, train_size=.1)\n",
    "* Use `lr = LogisticRegression(solver='lbfgs', multi_class='multinomial')` as written. This will fit a logistic regression model to predict the three class labels (*versicolor*, *virginica*, and *setosa*). This is a linear model of the log-odds, just as for binary logistic regression. The decision boundaries will be linear functions of the two principal components.\n",
    "* In a little more detail, in a logistic regression model to carry out three-way classification where $Y$ can be 0, 1, or 2, the model takes the form\n",
    "$$ P(Y=0 \\,|\\, x) = \\frac{1}{1 + e^{\\beta_1^T x} + e^{\\beta_2^T x}}$$\n",
    "<br>\n",
    "$$ P(Y=1 \\,|\\, x) = \\frac{e^{\\beta_1^T x}}{1 + e^{\\beta_1^T x} + e^{\\beta_2^T x}}$$\n",
    "<br>\n",
    "$$ P(Y=2 \\,|\\, x) = \\frac{e^{\\beta_2^T x}}{1 + e^{\\beta_1^T x} + e^{\\beta_2^T x}}$$\n",
    "<br>\n",
    "* The decision boundaries between any two classes in such a model are linear.\n"
   ]
  },
  {
   "cell_type": "code",
   "execution_count": 17,
   "metadata": {},
   "outputs": [
    {
     "name": "stderr",
     "output_type": "stream",
     "text": [
      "100%|██████████| 9/9 [00:37<00:00,  4.41s/it]\n"
     ]
    },
    {
     "data": {
      "image/png": "[encoded data removed]",
      "text/plain": [
       "<Figure size 432x288 with 1 Axes>"
      ]
     },
     "metadata": {
      "needs_background": "light"
     },
     "output_type": "display_data"
    }
   ],
   "source": [
    "from sklearn.linear_model import LogisticRegression\n",
    "from sklearn.model_selection import train_test_split\n",
    "\n",
    "# 5 points\n",
    "\n",
    "X = pcs\n",
    "lr = LogisticRegression(solver='lbfgs', multi_class='multinomial')\n",
    "lr_error_rate = []\n",
    "trials = 1000\n",
    "train_percent = np.linspace(.1,.9,num=9)\n",
    "\n",
    "# your code here\n",
    "from tqdm import tqdm\n",
    "for p in tqdm(train_percent):\n",
    "    errs = []\n",
    "    for trial in np.arange(trials):\n",
    "        X_train, X_test, y_train, y_test = train_test_split(X, y, train_size=p)\n",
    "        lr.fit(X_train, y_train)\n",
    "        err = np.mean(lr.predict(X_test) != y_test)\n",
    "        errs.append(err)\n",
    "    this_err = np.mean(errs)\n",
    "    lr_error_rate.append(this_err)\n",
    "    \n",
    "plt.plot(train_percent, lr_error_rate)\n",
    "plt.xlabel('train percent')\n",
    "_ = plt.ylabel('error')"
   ]
  },
  {
   "cell_type": "markdown",
   "metadata": {},
   "source": [
    "#### 3.9 Finding the minimum error\n",
    "\n",
    "What is the smallest average error attained by logistic regression?"
   ]
  },
  {
   "cell_type": "code",
   "execution_count": 18,
   "metadata": {},
   "outputs": [
    {
     "name": "stdout",
     "output_type": "stream",
     "text": [
      "The minimum error attained by the logistic regression is 4.01%\n"
     ]
    }
   ],
   "source": [
    "# 2 points\n",
    "\n",
    "min_error = np.min(np.array(lr_error_rate)) # your code here\n",
    "print(\"The minimum error attained by the logistic regression is %.2f%%\" % (100*min_error))"
   ]
  },
  {
   "cell_type": "markdown",
   "metadata": {},
   "source": [
    "#### 3.10 Explaining the results\n",
    "\n",
    "4 points\n",
    "\n",
    "Which performs better, decision trees or logistic regression? If one performs better than the other, explain why this is the case. If they perform about equally, also explain why this might be the case.\n",
    "\n"
   ]
  },
  {
   "cell_type": "markdown",
   "metadata": {},
   "source": [
    "[Your answer here in markdown]\n",
    "\n",
    "The logistic regression error is under 4% while the decision tree error is around 5.5%. The reason can be seen in the plot of the first two principal components, reproduced here:\n",
    "\n",
    "<img src=\"iris-pc.png\" width=400>\n",
    "\n",
    "The decision tree has to make axis-aligned splits--that is, it makes boxes aligned with the horizontal and vertical axes. Logistic regression, on the other hand, has decision boundaries that are linear. It's intuitively clear that the optimal decision boundary between the vericolor and virginica points above should be roughly a straight line with a slope of about 3/4. This can be easily captured by logistic regression, but not by decision trees. "
   ]
  }
 ],
 "metadata": {
  "kernelspec": {
   "display_name": "Python 3",
   "language": "python",
   "name": "python3"
  },
  "language_info": {
   "codemirror_mode": {
    "name": "ipython",
    "version": 3
   },
   "file_extension": ".py",
   "mimetype": "text/x-python",
   "name": "python",
   "nbconvert_exporter": "python",
   "pygments_lexer": "ipython3",
   "version": "3.7.5"
  }
 },
 "nbformat": 4,
 "nbformat_minor": 4
}
